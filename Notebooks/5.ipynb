{
 "cells": [
  {
   "cell_type": "markdown",
   "metadata": {},
   "source": [
    "# Visualiser les données"
   ]
  },
  {
   "cell_type": "markdown",
   "metadata": {},
   "source": [
    "Il serait également inréressant de visualiser ces données pour chaque jour de l'année dans son ensemble"
   ]
  },
  {
   "cell_type": "code",
   "execution_count": 1,
   "metadata": {},
   "outputs": [],
   "source": [
    "import pandas as pd\n",
    "%matplotlib inline\n",
    "import numpy as np"
   ]
  },
  {
   "cell_type": "code",
   "execution_count": 2,
   "metadata": {},
   "outputs": [],
   "source": [
    "filename = '../Penn_State_PA_2012.gzip'\n",
    "df = pd.read_csv(filename, encoding='utf-8', compression='gzip', index_col='timestamp', parse_dates=True)\n",
    "df.index = df.index.tz_localize('UTC').tz_convert('US/Eastern')"
   ]
  },
  {
   "cell_type": "code",
   "execution_count": 3,
   "metadata": {},
   "outputs": [],
   "source": [
    "col_flag = df.columns[df.columns.str.endswith('_Flag')]\n",
    "col_noflag = col_flag.str.replace('_Flag', '')\n",
    "for i in col_noflag.values:\n",
    "    df.loc[df[i + '_Flag'] > 0, i] = np.nan"
   ]
  },
  {
   "cell_type": "code",
   "execution_count": 4,
   "metadata": {},
   "outputs": [
    {
     "data": {
      "text/html": [
       "<div>\n",
       "<style scoped>\n",
       "    .dataframe tbody tr th:only-of-type {\n",
       "        vertical-align: middle;\n",
       "    }\n",
       "\n",
       "    .dataframe tbody tr th {\n",
       "        vertical-align: top;\n",
       "    }\n",
       "\n",
       "    .dataframe thead th {\n",
       "        text-align: right;\n",
       "    }\n",
       "</style>\n",
       "<table border=\"1\" class=\"dataframe\">\n",
       "  <thead>\n",
       "    <tr style=\"text-align: right;\">\n",
       "      <th></th>\n",
       "      <th>2012-01-01</th>\n",
       "      <th>2012-01-02</th>\n",
       "      <th>2012-01-03</th>\n",
       "      <th>2012-01-04</th>\n",
       "      <th>2012-01-05</th>\n",
       "      <th>2012-01-06</th>\n",
       "      <th>2012-01-07</th>\n",
       "      <th>2012-01-08</th>\n",
       "      <th>2012-01-09</th>\n",
       "      <th>2012-01-10</th>\n",
       "      <th>...</th>\n",
       "      <th>2012-12-22</th>\n",
       "      <th>2012-12-23</th>\n",
       "      <th>2012-12-24</th>\n",
       "      <th>2012-12-25</th>\n",
       "      <th>2012-12-26</th>\n",
       "      <th>2012-12-27</th>\n",
       "      <th>2012-12-28</th>\n",
       "      <th>2012-12-29</th>\n",
       "      <th>2012-12-30</th>\n",
       "      <th>2012-12-31</th>\n",
       "    </tr>\n",
       "  </thead>\n",
       "  <tbody>\n",
       "    <tr>\n",
       "      <th>00:00:00</th>\n",
       "      <td>0.1</td>\n",
       "      <td>0.6</td>\n",
       "      <td>0.5</td>\n",
       "      <td>0.2</td>\n",
       "      <td>0.4</td>\n",
       "      <td>0.2</td>\n",
       "      <td>0.5</td>\n",
       "      <td>0.1</td>\n",
       "      <td>0.2</td>\n",
       "      <td>0.1</td>\n",
       "      <td>...</td>\n",
       "      <td>-0.2</td>\n",
       "      <td>-0.2</td>\n",
       "      <td>-0.1</td>\n",
       "      <td>0.1</td>\n",
       "      <td>-0.3</td>\n",
       "      <td>0.0</td>\n",
       "      <td>0.0</td>\n",
       "      <td>0.0</td>\n",
       "      <td>-0.2</td>\n",
       "      <td>-0.3</td>\n",
       "    </tr>\n",
       "    <tr>\n",
       "      <th>00:01:00</th>\n",
       "      <td>0.1</td>\n",
       "      <td>0.7</td>\n",
       "      <td>0.5</td>\n",
       "      <td>0.2</td>\n",
       "      <td>0.4</td>\n",
       "      <td>0.1</td>\n",
       "      <td>0.4</td>\n",
       "      <td>0.1</td>\n",
       "      <td>0.2</td>\n",
       "      <td>0.2</td>\n",
       "      <td>...</td>\n",
       "      <td>-0.2</td>\n",
       "      <td>-0.2</td>\n",
       "      <td>-0.1</td>\n",
       "      <td>0.1</td>\n",
       "      <td>-0.3</td>\n",
       "      <td>0.0</td>\n",
       "      <td>0.0</td>\n",
       "      <td>0.0</td>\n",
       "      <td>-0.2</td>\n",
       "      <td>-0.3</td>\n",
       "    </tr>\n",
       "    <tr>\n",
       "      <th>00:02:00</th>\n",
       "      <td>0.1</td>\n",
       "      <td>0.7</td>\n",
       "      <td>0.5</td>\n",
       "      <td>0.2</td>\n",
       "      <td>0.2</td>\n",
       "      <td>0.1</td>\n",
       "      <td>0.4</td>\n",
       "      <td>0.2</td>\n",
       "      <td>0.2</td>\n",
       "      <td>0.2</td>\n",
       "      <td>...</td>\n",
       "      <td>-0.2</td>\n",
       "      <td>-0.2</td>\n",
       "      <td>-0.1</td>\n",
       "      <td>0.1</td>\n",
       "      <td>-0.3</td>\n",
       "      <td>0.0</td>\n",
       "      <td>0.0</td>\n",
       "      <td>0.0</td>\n",
       "      <td>-0.2</td>\n",
       "      <td>-0.2</td>\n",
       "    </tr>\n",
       "    <tr>\n",
       "      <th>00:03:00</th>\n",
       "      <td>0.1</td>\n",
       "      <td>0.7</td>\n",
       "      <td>0.6</td>\n",
       "      <td>0.3</td>\n",
       "      <td>0.2</td>\n",
       "      <td>0.1</td>\n",
       "      <td>0.4</td>\n",
       "      <td>0.1</td>\n",
       "      <td>0.2</td>\n",
       "      <td>0.2</td>\n",
       "      <td>...</td>\n",
       "      <td>-0.2</td>\n",
       "      <td>-0.3</td>\n",
       "      <td>-0.1</td>\n",
       "      <td>0.1</td>\n",
       "      <td>-0.2</td>\n",
       "      <td>-0.1</td>\n",
       "      <td>-0.1</td>\n",
       "      <td>0.0</td>\n",
       "      <td>-0.2</td>\n",
       "      <td>-0.2</td>\n",
       "    </tr>\n",
       "    <tr>\n",
       "      <th>00:04:00</th>\n",
       "      <td>0.0</td>\n",
       "      <td>0.7</td>\n",
       "      <td>0.8</td>\n",
       "      <td>0.3</td>\n",
       "      <td>0.2</td>\n",
       "      <td>0.1</td>\n",
       "      <td>0.3</td>\n",
       "      <td>0.1</td>\n",
       "      <td>0.2</td>\n",
       "      <td>0.2</td>\n",
       "      <td>...</td>\n",
       "      <td>-0.2</td>\n",
       "      <td>-0.2</td>\n",
       "      <td>-0.1</td>\n",
       "      <td>0.1</td>\n",
       "      <td>-0.1</td>\n",
       "      <td>-0.1</td>\n",
       "      <td>-0.1</td>\n",
       "      <td>0.0</td>\n",
       "      <td>-0.2</td>\n",
       "      <td>-0.2</td>\n",
       "    </tr>\n",
       "  </tbody>\n",
       "</table>\n",
       "<p>5 rows × 366 columns</p>\n",
       "</div>"
      ],
      "text/plain": [
       "          2012-01-01  2012-01-02  2012-01-03  2012-01-04  2012-01-05  \\\n",
       "00:00:00         0.1         0.6         0.5         0.2         0.4   \n",
       "00:01:00         0.1         0.7         0.5         0.2         0.4   \n",
       "00:02:00         0.1         0.7         0.5         0.2         0.2   \n",
       "00:03:00         0.1         0.7         0.6         0.3         0.2   \n",
       "00:04:00         0.0         0.7         0.8         0.3         0.2   \n",
       "\n",
       "          2012-01-06  2012-01-07  2012-01-08  2012-01-09  2012-01-10  \\\n",
       "00:00:00         0.2         0.5         0.1         0.2         0.1   \n",
       "00:01:00         0.1         0.4         0.1         0.2         0.2   \n",
       "00:02:00         0.1         0.4         0.2         0.2         0.2   \n",
       "00:03:00         0.1         0.4         0.1         0.2         0.2   \n",
       "00:04:00         0.1         0.3         0.1         0.2         0.2   \n",
       "\n",
       "             ...      2012-12-22  2012-12-23  2012-12-24  2012-12-25  \\\n",
       "00:00:00     ...            -0.2        -0.2        -0.1         0.1   \n",
       "00:01:00     ...            -0.2        -0.2        -0.1         0.1   \n",
       "00:02:00     ...            -0.2        -0.2        -0.1         0.1   \n",
       "00:03:00     ...            -0.2        -0.3        -0.1         0.1   \n",
       "00:04:00     ...            -0.2        -0.2        -0.1         0.1   \n",
       "\n",
       "          2012-12-26  2012-12-27  2012-12-28  2012-12-29  2012-12-30  \\\n",
       "00:00:00        -0.3         0.0         0.0         0.0        -0.2   \n",
       "00:01:00        -0.3         0.0         0.0         0.0        -0.2   \n",
       "00:02:00        -0.3         0.0         0.0         0.0        -0.2   \n",
       "00:03:00        -0.2        -0.1        -0.1         0.0        -0.2   \n",
       "00:04:00        -0.1        -0.1        -0.1         0.0        -0.2   \n",
       "\n",
       "          2012-12-31  \n",
       "00:00:00        -0.3  \n",
       "00:01:00        -0.3  \n",
       "00:02:00        -0.2  \n",
       "00:03:00        -0.2  \n",
       "00:04:00        -0.2  \n",
       "\n",
       "[5 rows x 366 columns]"
      ]
     },
     "execution_count": 4,
     "metadata": {},
     "output_type": "execute_result"
    }
   ],
   "source": [
    "pivoted = df.pivot_table('diffuse',index=df.index.time,columns=df.index.date)\n",
    "pivoted.head()"
   ]
  },
  {
   "cell_type": "code",
   "execution_count": 5,
   "metadata": {},
   "outputs": [
    {
     "data": {
      "text/plain": [
       "<matplotlib.axes._subplots.AxesSubplot at 0x117d324a8>"
      ]
     },
     "execution_count": 5,
     "metadata": {},
     "output_type": "execute_result"
    },
    {
     "data": {
      "image/png": "[encoded data removed]",
      "text/plain": [
       "<matplotlib.figure.Figure at 0x117d49f60>"
      ]
     },
     "metadata": {},
     "output_type": "display_data"
    }
   ],
   "source": [
    "pivoted.plot(legend=False, alpha=0.006, c='k', title='Rayonnement diffus journalier')"
   ]
  },
  {
   "cell_type": "code",
   "execution_count": null,
   "metadata": {},
   "outputs": [],
   "source": []
  }
 ],
 "metadata": {
  "kernelspec": {
   "display_name": "Python 3",
   "language": "python",
   "name": "python3"
  },
  "language_info": {
   "codemirror_mode": {
    "name": "ipython",
    "version": 3
   },
   "file_extension": ".py",
   "mimetype": "text/x-python",
   "name": "python",
   "nbconvert_exporter": "python",
   "pygments_lexer": "ipython3",
   "version": "3.6.3"
  }
 },
 "nbformat": 4,
 "nbformat_minor": 2
}
